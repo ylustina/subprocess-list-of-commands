{
 "cells": [
  {
   "cell_type": "code",
   "execution_count": 1,
   "metadata": {
    "collapsed": true
   },
   "outputs": [],
   "source": [
    "import time\n",
    "import tempfile\n",
    "import pandas as pd\n",
    "import subprocess as sp"
   ]
  },
  {
   "cell_type": "code",
   "execution_count": 2,
   "metadata": {
    "collapsed": true
   },
   "outputs": [],
   "source": [
    "commands = [\n",
    "    'sleep 3',    # 0\n",
    "    'ls -l /',    # 1\n",
    "    'find /',     # 2\n",
    "    'sleep 4',    # 3\n",
    "    'find /usr',  # 4\n",
    "    'date',       # 5\n",
    "    'sleep 5',    # 6\n",
    "    'uptime'      # 7\n",
    "]"
   ]
  },
  {
   "cell_type": "markdown",
   "metadata": {},
   "source": [
    "Creating an empty times dictionary for commands and their corresponding times, later to be filled in by the while loop, and opening a process for each command."
   ]
  },
  {
   "cell_type": "code",
   "execution_count": 3,
   "metadata": {
    "collapsed": true
   },
   "outputs": [],
   "source": [
    "times = {}\n",
    "processes = []\n",
    "\n",
    "start_time = time.time()"
   ]
  },
  {
   "cell_type": "markdown",
   "metadata": {},
   "source": [
    "Standard output goes into a tempfile. Have to use a tempfile instead of setting **stdout** and **stderr** to PIPE because the 'find /' command causes subprocess hanging. For that one command, PIPE didn't work."
   ]
  },
  {
   "cell_type": "code",
   "execution_count": 4,
   "metadata": {
    "collapsed": true
   },
   "outputs": [],
   "source": [
    "for command in commands:\n",
    "    processes.append(sp.Popen(command, shell=True, \n",
    "                              stdout=tempfile.TemporaryFile()))"
   ]
  },
  {
   "cell_type": "markdown",
   "metadata": {},
   "source": [
    "8 processes open, one for each command:"
   ]
  },
  {
   "cell_type": "code",
   "execution_count": 5,
   "metadata": {
    "scrolled": true
   },
   "outputs": [
    {
     "data": {
      "text/plain": [
       "[<subprocess.Popen at 0x10771c588>,\n",
       " <subprocess.Popen at 0x112784ac8>,\n",
       " <subprocess.Popen at 0x112784a20>,\n",
       " <subprocess.Popen at 0x112784a58>,\n",
       " <subprocess.Popen at 0x112784b00>,\n",
       " <subprocess.Popen at 0x112784b38>,\n",
       " <subprocess.Popen at 0x112784b70>,\n",
       " <subprocess.Popen at 0x112784ba8>]"
      ]
     },
     "execution_count": 5,
     "metadata": {},
     "output_type": "execute_result"
    }
   ],
   "source": [
    "processes"
   ]
  },
  {
   "cell_type": "markdown",
   "metadata": {},
   "source": [
    "While loop runs the processes. After each process is finished, the stop time is recorded in the times dictionary, and the process is popped from the list."
   ]
  },
  {
   "cell_type": "code",
   "execution_count": 7,
   "metadata": {
    "collapsed": true
   },
   "outputs": [],
   "source": [
    "while len(processes) > 0:\n",
    "    for i, process in enumerate(processes):\n",
    "          if process.poll() is not None:\n",
    "              times[process.args] = (time.time() - start_time)\n",
    "              processes.pop(i)"
   ]
  },
  {
   "cell_type": "code",
   "execution_count": 9,
   "metadata": {
    "scrolled": true
   },
   "outputs": [
    {
     "data": {
      "text/plain": [
       "{'date': 0.0854341983795166,\n",
       " 'find /': 30.558664083480835,\n",
       " 'find /usr': 1.2270500659942627,\n",
       " 'ls -l /': 0.08518719673156738,\n",
       " 'sleep 3': 3.0165462493896484,\n",
       " 'sleep 4': 4.031415224075317,\n",
       " 'sleep 5': 5.043739080429077,\n",
       " 'uptime': 0.08545517921447754}"
      ]
     },
     "execution_count": 9,
     "metadata": {},
     "output_type": "execute_result"
    }
   ],
   "source": [
    "times"
   ]
  },
  {
   "cell_type": "markdown",
   "metadata": {
    "collapsed": true
   },
   "source": [
    "--------"
   ]
  },
  {
   "cell_type": "code",
   "execution_count": 10,
   "metadata": {},
   "outputs": [
    {
     "name": "stdout",
     "output_type": "stream",
     "text": [
      "44.1334912776947\n"
     ]
    }
   ],
   "source": [
    "total_elapsed = print(sum(times.values()))"
   ]
  },
  {
   "cell_type": "code",
   "execution_count": 11,
   "metadata": {
    "scrolled": true
   },
   "outputs": [
    {
     "data": {
      "text/plain": [
       "count     8.000000\n",
       "mean      5.516686\n",
       "std      10.300347\n",
       "min       0.085187\n",
       "25%       0.085450\n",
       "50%       2.121798\n",
       "75%       4.284496\n",
       "max      30.558664\n",
       "dtype: float64"
      ]
     },
     "execution_count": 11,
     "metadata": {},
     "output_type": "execute_result"
    }
   ],
   "source": [
    "times_series = pd.Series(times)\n",
    "times_series.describe()"
   ]
  },
  {
   "cell_type": "markdown",
   "metadata": {},
   "source": [
    "**Total elapsed time:** 44.13s \n",
    "\n",
    "**Average:** 5.51s \n",
    "\n",
    "**Minimum:** 0.08 - 'ls -l /'\n",
    "\n",
    "**Maximum:** 30.55s - 'find /'"
   ]
  }
 ],
 "metadata": {
  "kernelspec": {
   "display_name": "Python 3",
   "language": "python",
   "name": "python3"
  },
  "language_info": {
   "codemirror_mode": {
    "name": "ipython",
    "version": 3
   },
   "file_extension": ".py",
   "mimetype": "text/x-python",
   "name": "python",
   "nbconvert_exporter": "python",
   "pygments_lexer": "ipython3",
   "version": "3.6.4"
  }
 },
 "nbformat": 4,
 "nbformat_minor": 2
}
